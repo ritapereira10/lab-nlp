{
 "cells": [
  {
   "cell_type": "markdown",
   "metadata": {},
   "source": [
    "# Challenge 2: Sentiment Analysis\n",
    "\n",
    "In this challenge we will learn sentiment analysis and practice performing sentiment analysis on Twitter tweets. \n",
    "\n",
    "## Introduction\n",
    "\n",
    "Sentiment analysis is to *systematically identify, extract, quantify, and study affective states and subjective information* based on texts ([reference](https://en.wikipedia.org/wiki/Sentiment_analysis)). In simple words, it's to understand whether a person is happy or unhappy in producing the piece of text. Why we (or rather, companies) care about sentiment in texts? It's because by understanding the sentiments in texts, we will be able to know if our customers are happy or unhappy about our products and services. If they are unhappy, the subsequent action is to figure out what have caused the unhappiness and make improvements.\n",
    "\n",
    "Basic sentiment analysis only understands the *positive* or *negative* (sometimes *neutral* too) polarities of the sentiment. More advanced sentiment analysis will also consider dimensions such as agreement, subjectivity, confidence, irony, and so on. In this challenge we will conduct the basic positive vs negative sentiment analysis based on real Twitter tweets.\n",
    "\n",
    "NLTK comes with a [sentiment analysis package](https://www.nltk.org/api/nltk.sentiment.html). This package is great for dummies to perform sentiment analysis because it requires only the textual data to make predictions. For example:\n",
    "\n",
    "```python\n",
    ">>> from nltk.sentiment.vader import SentimentIntensityAnalyzer\n",
    ">>> txt = \"Ironhack is a Global Tech School ranked num 2 worldwide.  ",
    " ",
    "Our mission is to help people transform their careers and join a thriving community of tech professionals that love what they do.\"\n",
    ">>> analyzer = SentimentIntensityAnalyzer()\n",
    ">>> analyzer.polarity_scores(txt)\n",
    "{'neg': 0.0, 'neu': 0.741, 'pos': 0.259, 'compound': 0.8442}\n",
    "```\n",
    "\n",
    "In this challenge, however, you will not use NLTK's sentiment analysis package because in your Machine Learning training in the past 2 weeks you have learned how to make predictions more accurate than that. The [tweets data](https://www.kaggle.com/kazanova/sentiment140) we will be using today are already coded for the positive/negative sentiment. You will be able to use the Naïve Bayes classifier you learned in the lesson to predict the sentiment of tweets based on the labels."
   ]
  },
  {
   "cell_type": "markdown",
   "metadata": {},
   "source": [
    "## Conducting Sentiment Analysis\n",
    "\n",
    "### Loading and Exploring Data\n",
    "\n",
    "The dataset we'll be using today is located on Kaggle (https://www.kaggle.com/kazanova/sentiment140). Once you have downloaded and imported the dataset, it you will need to define the columns names: df.columns = ['target','id','date','flag','user','text']\n",
    "\n",
    "*Notes:* \n",
    "\n",
    "* The dataset is huuuuge (1.6m tweets). When you develop your data analysis codes, you can sample a subset of the data (e.g. 20k records) so that you will save a lot of time when you test your codes."
   ]
  },
  {
   "cell_type": "code",
   "execution_count": 2,
   "metadata": {},
   "outputs": [
    {
     "name": "stderr",
     "output_type": "stream",
     "text": [
      "[nltk_data] Downloading package stopwords to\n",
      "[nltk_data]     /Users/ritasousabritopereira/nltk_data...\n",
      "[nltk_data]   Package stopwords is already up-to-date!\n"
     ]
    }
   ],
   "source": [
    "import pandas as pd\n",
    "import numpy as np\n",
    "\n",
    "import re\n",
    "\n",
    "\n",
    "import nltk\n",
    "from nltk.tokenize import word_tokenize\n",
    "from nltk.stem import WordNetLemmatizer \n",
    "from nltk.corpus import stopwords\n",
    "nltk.download('stopwords')\n",
    "from nltk.stem import PorterStemmer \n",
    "\n",
    "from nltk import NaiveBayesClassifier\n",
    "from sklearn.model_selection import train_test_split"
   ]
  },
  {
   "cell_type": "code",
   "execution_count": 16,
   "metadata": {},
   "outputs": [],
   "source": [
    "#i'm importing a dataset that was already sampled for 10k tweets in other notebook (otherwise the file would be too big for git)\n",
    "\n",
    "df_sample = pd.read_csv('sample_dataset.csv')"
   ]
  },
  {
   "cell_type": "code",
   "execution_count": 17,
   "metadata": {},
   "outputs": [
    {
     "data": {
      "text/html": [
       "<div>\n",
       "<style scoped>\n",
       "    .dataframe tbody tr th:only-of-type {\n",
       "        vertical-align: middle;\n",
       "    }\n",
       "\n",
       "    .dataframe tbody tr th {\n",
       "        vertical-align: top;\n",
       "    }\n",
       "\n",
       "    .dataframe thead th {\n",
       "        text-align: right;\n",
       "    }\n",
       "</style>\n",
       "<table border=\"1\" class=\"dataframe\">\n",
       "  <thead>\n",
       "    <tr style=\"text-align: right;\">\n",
       "      <th></th>\n",
       "      <th>target</th>\n",
       "      <th>id</th>\n",
       "      <th>date</th>\n",
       "      <th>flag</th>\n",
       "      <th>user</th>\n",
       "      <th>text</th>\n",
       "    </tr>\n",
       "  </thead>\n",
       "  <tbody>\n",
       "    <tr>\n",
       "      <td>0</td>\n",
       "      <td>4</td>\n",
       "      <td>1994909942</td>\n",
       "      <td>Mon Jun 01 12:39:03 PDT 2009</td>\n",
       "      <td>NO_QUERY</td>\n",
       "      <td>dufferslash4eva</td>\n",
       "      <td>@duff64    Hope Finland is treating you nicely...</td>\n",
       "    </tr>\n",
       "    <tr>\n",
       "      <td>1</td>\n",
       "      <td>4</td>\n",
       "      <td>2009586881</td>\n",
       "      <td>Tue Jun 02 15:56:40 PDT 2009</td>\n",
       "      <td>NO_QUERY</td>\n",
       "      <td>MeganL739</td>\n",
       "      <td>Just registered with the embassy in Quito! Loo...</td>\n",
       "    </tr>\n",
       "    <tr>\n",
       "      <td>2</td>\n",
       "      <td>0</td>\n",
       "      <td>2065879917</td>\n",
       "      <td>Sun Jun 07 09:28:19 PDT 2009</td>\n",
       "      <td>NO_QUERY</td>\n",
       "      <td>jordans1grl</td>\n",
       "      <td>Danny took pics with kate &amp;amp; em! Mel &amp;amp; ...</td>\n",
       "    </tr>\n",
       "    <tr>\n",
       "      <td>3</td>\n",
       "      <td>0</td>\n",
       "      <td>1468623578</td>\n",
       "      <td>Tue Apr 07 02:47:45 PDT 2009</td>\n",
       "      <td>NO_QUERY</td>\n",
       "      <td>tiedyeina</td>\n",
       "      <td>if you have a computer which isn't doing much ...</td>\n",
       "    </tr>\n",
       "    <tr>\n",
       "      <td>4</td>\n",
       "      <td>4</td>\n",
       "      <td>2175200161</td>\n",
       "      <td>Mon Jun 15 00:20:40 PDT 2009</td>\n",
       "      <td>NO_QUERY</td>\n",
       "      <td>NathanaelB</td>\n",
       "      <td>@SindySpyder Twitter doesn't listen to subbies</td>\n",
       "    </tr>\n",
       "  </tbody>\n",
       "</table>\n",
       "</div>"
      ],
      "text/plain": [
       "   target          id                          date      flag  \\\n",
       "0       4  1994909942  Mon Jun 01 12:39:03 PDT 2009  NO_QUERY   \n",
       "1       4  2009586881  Tue Jun 02 15:56:40 PDT 2009  NO_QUERY   \n",
       "2       0  2065879917  Sun Jun 07 09:28:19 PDT 2009  NO_QUERY   \n",
       "3       0  1468623578  Tue Apr 07 02:47:45 PDT 2009  NO_QUERY   \n",
       "4       4  2175200161  Mon Jun 15 00:20:40 PDT 2009  NO_QUERY   \n",
       "\n",
       "              user                                               text  \n",
       "0  dufferslash4eva  @duff64    Hope Finland is treating you nicely...  \n",
       "1        MeganL739  Just registered with the embassy in Quito! Loo...  \n",
       "2      jordans1grl  Danny took pics with kate &amp; em! Mel &amp; ...  \n",
       "3        tiedyeina  if you have a computer which isn't doing much ...  \n",
       "4       NathanaelB    @SindySpyder Twitter doesn't listen to subbies   "
      ]
     },
     "execution_count": 17,
     "metadata": {},
     "output_type": "execute_result"
    }
   ],
   "source": [
    "df_sample.head()"
   ]
  },
  {
   "cell_type": "code",
   "execution_count": 18,
   "metadata": {},
   "outputs": [
    {
     "data": {
      "text/plain": [
       "(10000, 6)"
      ]
     },
     "execution_count": 18,
     "metadata": {},
     "output_type": "execute_result"
    }
   ],
   "source": [
    "df_sample.shape"
   ]
  },
  {
   "cell_type": "markdown",
   "metadata": {},
   "source": [
    "### Prepare Textual Data for Sentiment Analysis\n",
    "\n",
    "Now, apply the functions you have written in Challenge 1 to your whole data set. These functions include:\n",
    "\n",
    "* `clean_up()`\n",
    "\n",
    "* `tokenize()`\n",
    "\n",
    "* `stem_and_lemmatize()`\n",
    "\n",
    "* `remove_stopwords()`\n",
    "\n",
    "Create a new column called `text_processed` in the dataframe to contain the processed data. At the end, your `text_processed` column should contain lists of word tokens that are cleaned up. Your data should look like below:\n",
    "\n",
    "![Processed Data](data-cleaning-results.png)"
   ]
  },
  {
   "cell_type": "code",
   "execution_count": 19,
   "metadata": {},
   "outputs": [],
   "source": [
    "# get functions from other notebook\n",
    "\n",
    "def clean_up(s):\n",
    "    new_s = re.sub(\"http:\\w*\", ' ', s) #URL\n",
    "    new_s = re.sub('[\\d\\W]+', ' ', new_s) \n",
    "    return new_s\n",
    "\n",
    "def tokenize(s):\n",
    "    return word_tokenize(s, preserve_line=True)\n",
    "\n",
    "def stem_and_lemmatize(l):\n",
    "  \n",
    "    ps = PorterStemmer()\n",
    "    new_l = [ps.stem(w) for w in l]\n",
    "    \n",
    "    lemmatizer = WordNetLemmatizer() \n",
    "    new_l = [lemmatizer.lemmatize(word) for word in new_l] \n",
    "    return new_l\n",
    "\n",
    "def remove_stopwords(l):\n",
    "    stop = stopwords.words('english')\n",
    "    new_l = [w for w in l.split() not in stop]\n",
    "    return new_l"
   ]
  },
  {
   "cell_type": "code",
   "execution_count": 20,
   "metadata": {},
   "outputs": [],
   "source": [
    "\n",
    "df_sample['text_processed'] = df_sample['text'].apply(lambda x: x.lower())\n",
    "df_sample['text_processed'] = df_sample['text_processed'].apply(lambda x: clean_up(x))\n",
    "df_sample['text_processed'] = df_sample['text_processed'].apply(lambda x: tokenize(x))\n",
    "df_sample['text_processed'] = df_sample['text_processed'].apply(lambda x: stem_and_lemmatize(x))\n",
    "\n",
    "stop_words = stopwords.words('english')\n",
    "df_sample['text_processed'] = df_sample['text_processed'].apply(lambda x: [item for item in x if item not in stop_words])\n"
   ]
  },
  {
   "cell_type": "code",
   "execution_count": 21,
   "metadata": {},
   "outputs": [
    {
     "data": {
      "text/html": [
       "<div>\n",
       "<style scoped>\n",
       "    .dataframe tbody tr th:only-of-type {\n",
       "        vertical-align: middle;\n",
       "    }\n",
       "\n",
       "    .dataframe tbody tr th {\n",
       "        vertical-align: top;\n",
       "    }\n",
       "\n",
       "    .dataframe thead th {\n",
       "        text-align: right;\n",
       "    }\n",
       "</style>\n",
       "<table border=\"1\" class=\"dataframe\">\n",
       "  <thead>\n",
       "    <tr style=\"text-align: right;\">\n",
       "      <th></th>\n",
       "      <th>target</th>\n",
       "      <th>id</th>\n",
       "      <th>date</th>\n",
       "      <th>flag</th>\n",
       "      <th>user</th>\n",
       "      <th>text</th>\n",
       "      <th>text_processed</th>\n",
       "    </tr>\n",
       "  </thead>\n",
       "  <tbody>\n",
       "    <tr>\n",
       "      <td>0</td>\n",
       "      <td>4</td>\n",
       "      <td>1994909942</td>\n",
       "      <td>Mon Jun 01 12:39:03 PDT 2009</td>\n",
       "      <td>NO_QUERY</td>\n",
       "      <td>dufferslash4eva</td>\n",
       "      <td>@duff64    Hope Finland is treating you nicely...</td>\n",
       "      <td>[duff, hope, finland, treat, nice, yet, wonder...</td>\n",
       "    </tr>\n",
       "    <tr>\n",
       "      <td>1</td>\n",
       "      <td>4</td>\n",
       "      <td>2009586881</td>\n",
       "      <td>Tue Jun 02 15:56:40 PDT 2009</td>\n",
       "      <td>NO_QUERY</td>\n",
       "      <td>MeganL739</td>\n",
       "      <td>Just registered with the embassy in Quito! Loo...</td>\n",
       "      <td>[regist, embassi, quito, look, ecuador]</td>\n",
       "    </tr>\n",
       "    <tr>\n",
       "      <td>2</td>\n",
       "      <td>0</td>\n",
       "      <td>2065879917</td>\n",
       "      <td>Sun Jun 07 09:28:19 PDT 2009</td>\n",
       "      <td>NO_QUERY</td>\n",
       "      <td>jordans1grl</td>\n",
       "      <td>Danny took pics with kate &amp;amp; em! Mel &amp;amp; ...</td>\n",
       "      <td>[danni, took, pic, kate, amp, em, mel, amp, st...</td>\n",
       "    </tr>\n",
       "    <tr>\n",
       "      <td>3</td>\n",
       "      <td>0</td>\n",
       "      <td>1468623578</td>\n",
       "      <td>Tue Apr 07 02:47:45 PDT 2009</td>\n",
       "      <td>NO_QUERY</td>\n",
       "      <td>tiedyeina</td>\n",
       "      <td>if you have a computer which isn't doing much ...</td>\n",
       "      <td>[comput, much, cpu, core, much, technic, get, ...</td>\n",
       "    </tr>\n",
       "    <tr>\n",
       "      <td>4</td>\n",
       "      <td>4</td>\n",
       "      <td>2175200161</td>\n",
       "      <td>Mon Jun 15 00:20:40 PDT 2009</td>\n",
       "      <td>NO_QUERY</td>\n",
       "      <td>NathanaelB</td>\n",
       "      <td>@SindySpyder Twitter doesn't listen to subbies</td>\n",
       "      <td>[sindyspyd, twitter, listen, subbi]</td>\n",
       "    </tr>\n",
       "  </tbody>\n",
       "</table>\n",
       "</div>"
      ],
      "text/plain": [
       "   target          id                          date      flag  \\\n",
       "0       4  1994909942  Mon Jun 01 12:39:03 PDT 2009  NO_QUERY   \n",
       "1       4  2009586881  Tue Jun 02 15:56:40 PDT 2009  NO_QUERY   \n",
       "2       0  2065879917  Sun Jun 07 09:28:19 PDT 2009  NO_QUERY   \n",
       "3       0  1468623578  Tue Apr 07 02:47:45 PDT 2009  NO_QUERY   \n",
       "4       4  2175200161  Mon Jun 15 00:20:40 PDT 2009  NO_QUERY   \n",
       "\n",
       "              user                                               text  \\\n",
       "0  dufferslash4eva  @duff64    Hope Finland is treating you nicely...   \n",
       "1        MeganL739  Just registered with the embassy in Quito! Loo...   \n",
       "2      jordans1grl  Danny took pics with kate &amp; em! Mel &amp; ...   \n",
       "3        tiedyeina  if you have a computer which isn't doing much ...   \n",
       "4       NathanaelB    @SindySpyder Twitter doesn't listen to subbies    \n",
       "\n",
       "                                      text_processed  \n",
       "0  [duff, hope, finland, treat, nice, yet, wonder...  \n",
       "1            [regist, embassi, quito, look, ecuador]  \n",
       "2  [danni, took, pic, kate, amp, em, mel, amp, st...  \n",
       "3  [comput, much, cpu, core, much, technic, get, ...  \n",
       "4                [sindyspyd, twitter, listen, subbi]  "
      ]
     },
     "execution_count": 21,
     "metadata": {},
     "output_type": "execute_result"
    }
   ],
   "source": [
    "df_sample.head()"
   ]
  },
  {
   "cell_type": "markdown",
   "metadata": {},
   "source": [
    "### Creating Bag of Words\n",
    "\n",
    "The purpose of this step is to create a [bag of words](https://en.wikipedia.org/wiki/Bag-of-words_model) from the processed data. The bag of words contains all the unique words in your whole text body (a.k.a. *corpus*) with the number of occurrence of each word. It will allow you to understand which words are the most important features across the whole corpus.\n",
    "\n",
    "Also, you can imagine you will have a massive set of words. The less important words (i.e. those of very low number of occurrence) do not contribute much to the sentiment. Therefore, you only need to use the most important words to build your feature set in the next step. In our case, we will use the top 5,000 words with the highest frequency to build the features.\n",
    "\n",
    "In the cell below, combine all the words in `text_processed` and calculate the frequency distribution of all words. A convenient library to calculate the term frequency distribution is NLTK's `FreqDist` class ([documentation](https://www.nltk.org/api/nltk.html#module-nltk.probability)). Then select the top 5,000 words from the frequency distribution."
   ]
  },
  {
   "cell_type": "code",
   "execution_count": 22,
   "metadata": {},
   "outputs": [
    {
     "data": {
      "text/plain": [
       "FreqDist({'go': 866, 'get': 684, 'day': 671, 'wa': 612, 'thi': 564, 'work': 562, 'good': 555, 'love': 535, 'like': 515, 'u': 508, ...})"
      ]
     },
     "execution_count": 22,
     "metadata": {},
     "output_type": "execute_result"
    }
   ],
   "source": [
    "words = [word for words in df_sample['text_processed'].tolist() for word in words]\n",
    "words = nltk.FreqDist(words)\n",
    "\n",
    "words"
   ]
  },
  {
   "cell_type": "markdown",
   "metadata": {},
   "source": [
    "### Building Features\n",
    "\n",
    "Now let's build the features. Using the top 5,000 words, create a 2-dimensional matrix to record whether each of those words is contained in each document (tweet). Then you also have an output column to indicate whether the sentiment in each tweet is positive. For example, assuming your bag of words has 5 items (`['one', 'two', 'three', 'four', 'five']`) out of 4 documents (`['A', 'B', 'C', 'D']`), your feature set is essentially:\n",
    "\n",
    "| Doc | one | two | three | four | five | is_positive |\n",
    "|---|---|---|---|---|---|---|\n",
    "| A | True | False | False | True | False | True |\n",
    "| B | False | False | False | True | True | False |\n",
    "| C | False | True | False | False | False | True |\n",
    "| D | True | False | False | False | True | False|\n",
    "\n",
    "However, because the `nltk.NaiveBayesClassifier.train` class we will use in the next step does not work with Pandas dataframe, the structure of your feature set should be converted to the Python list looking like below:\n",
    "\n",
    "```python\n",
    "[\n",
    "\t({\n",
    "\t\t'one': True,\n",
    "\t\t'two': False,\n",
    "\t\t'three': False,\n",
    "\t\t'four': True,\n",
    "\t\t'five': False\n",
    "\t}, True),\n",
    "\t({\n",
    "\t\t'one': False,\n",
    "\t\t'two': False,\n",
    "\t\t'three': False,\n",
    "\t\t'four': True,\n",
    "\t\t'five': True\n",
    "\t}, False),\n",
    "\t({\n",
    "\t\t'one': False,\n",
    "\t\t'two': True,\n",
    "\t\t'three': False,\n",
    "\t\t'four': False,\n",
    "\t\t'five': False\n",
    "\t}, True),\n",
    "\t({\n",
    "\t\t'one': True,\n",
    "\t\t'two': False,\n",
    "\t\t'three': False,\n",
    "\t\t'four': False,\n",
    "\t\t'five': True\n",
    "\t}, False)\n",
    "]\n",
    "```\n",
    "\n",
    "To help you in this step, watch the [following video](https://www.youtube.com/watch?v=-vVskDsHcVc) to learn how to build the feature set with Python and NLTK. The source code in this video can be found [here](https://pythonprogramming.net/words-as-features-nltk-tutorial/)."
   ]
  },
  {
   "cell_type": "markdown",
   "metadata": {},
   "source": [
    "[![Building Features](building-features.jpg)](https://www.youtube.com/watch?v=-vVskDsHcVc)"
   ]
  },
  {
   "cell_type": "code",
   "execution_count": 23,
   "metadata": {},
   "outputs": [
    {
     "data": {
      "text/html": [
       "<div>\n",
       "<style scoped>\n",
       "    .dataframe tbody tr th:only-of-type {\n",
       "        vertical-align: middle;\n",
       "    }\n",
       "\n",
       "    .dataframe tbody tr th {\n",
       "        vertical-align: top;\n",
       "    }\n",
       "\n",
       "    .dataframe thead th {\n",
       "        text-align: right;\n",
       "    }\n",
       "</style>\n",
       "<table border=\"1\" class=\"dataframe\">\n",
       "  <thead>\n",
       "    <tr style=\"text-align: right;\">\n",
       "      <th></th>\n",
       "      <th>target</th>\n",
       "      <th>id</th>\n",
       "      <th>date</th>\n",
       "      <th>flag</th>\n",
       "      <th>user</th>\n",
       "      <th>text</th>\n",
       "      <th>text_processed</th>\n",
       "    </tr>\n",
       "  </thead>\n",
       "  <tbody>\n",
       "    <tr>\n",
       "      <td>0</td>\n",
       "      <td>4</td>\n",
       "      <td>1994909942</td>\n",
       "      <td>Mon Jun 01 12:39:03 PDT 2009</td>\n",
       "      <td>NO_QUERY</td>\n",
       "      <td>dufferslash4eva</td>\n",
       "      <td>@duff64    Hope Finland is treating you nicely...</td>\n",
       "      <td>[duff, hope, finland, treat, nice, yet, wonder...</td>\n",
       "    </tr>\n",
       "    <tr>\n",
       "      <td>1</td>\n",
       "      <td>4</td>\n",
       "      <td>2009586881</td>\n",
       "      <td>Tue Jun 02 15:56:40 PDT 2009</td>\n",
       "      <td>NO_QUERY</td>\n",
       "      <td>MeganL739</td>\n",
       "      <td>Just registered with the embassy in Quito! Loo...</td>\n",
       "      <td>[regist, embassi, quito, look, ecuador]</td>\n",
       "    </tr>\n",
       "    <tr>\n",
       "      <td>2</td>\n",
       "      <td>0</td>\n",
       "      <td>2065879917</td>\n",
       "      <td>Sun Jun 07 09:28:19 PDT 2009</td>\n",
       "      <td>NO_QUERY</td>\n",
       "      <td>jordans1grl</td>\n",
       "      <td>Danny took pics with kate &amp;amp; em! Mel &amp;amp; ...</td>\n",
       "      <td>[danni, took, pic, kate, amp, em, mel, amp, st...</td>\n",
       "    </tr>\n",
       "    <tr>\n",
       "      <td>3</td>\n",
       "      <td>0</td>\n",
       "      <td>1468623578</td>\n",
       "      <td>Tue Apr 07 02:47:45 PDT 2009</td>\n",
       "      <td>NO_QUERY</td>\n",
       "      <td>tiedyeina</td>\n",
       "      <td>if you have a computer which isn't doing much ...</td>\n",
       "      <td>[comput, much, cpu, core, much, technic, get, ...</td>\n",
       "    </tr>\n",
       "    <tr>\n",
       "      <td>4</td>\n",
       "      <td>4</td>\n",
       "      <td>2175200161</td>\n",
       "      <td>Mon Jun 15 00:20:40 PDT 2009</td>\n",
       "      <td>NO_QUERY</td>\n",
       "      <td>NathanaelB</td>\n",
       "      <td>@SindySpyder Twitter doesn't listen to subbies</td>\n",
       "      <td>[sindyspyd, twitter, listen, subbi]</td>\n",
       "    </tr>\n",
       "  </tbody>\n",
       "</table>\n",
       "</div>"
      ],
      "text/plain": [
       "   target          id                          date      flag  \\\n",
       "0       4  1994909942  Mon Jun 01 12:39:03 PDT 2009  NO_QUERY   \n",
       "1       4  2009586881  Tue Jun 02 15:56:40 PDT 2009  NO_QUERY   \n",
       "2       0  2065879917  Sun Jun 07 09:28:19 PDT 2009  NO_QUERY   \n",
       "3       0  1468623578  Tue Apr 07 02:47:45 PDT 2009  NO_QUERY   \n",
       "4       4  2175200161  Mon Jun 15 00:20:40 PDT 2009  NO_QUERY   \n",
       "\n",
       "              user                                               text  \\\n",
       "0  dufferslash4eva  @duff64    Hope Finland is treating you nicely...   \n",
       "1        MeganL739  Just registered with the embassy in Quito! Loo...   \n",
       "2      jordans1grl  Danny took pics with kate &amp; em! Mel &amp; ...   \n",
       "3        tiedyeina  if you have a computer which isn't doing much ...   \n",
       "4       NathanaelB    @SindySpyder Twitter doesn't listen to subbies    \n",
       "\n",
       "                                      text_processed  \n",
       "0  [duff, hope, finland, treat, nice, yet, wonder...  \n",
       "1            [regist, embassi, quito, look, ecuador]  \n",
       "2  [danni, took, pic, kate, amp, em, mel, amp, st...  \n",
       "3  [comput, much, cpu, core, much, technic, get, ...  \n",
       "4                [sindyspyd, twitter, listen, subbi]  "
      ]
     },
     "execution_count": 23,
     "metadata": {},
     "output_type": "execute_result"
    }
   ],
   "source": [
    "df_sample.head()"
   ]
  },
  {
   "cell_type": "code",
   "execution_count": 24,
   "metadata": {},
   "outputs": [],
   "source": [
    "#top 5000 words\n",
    "word_features = list(words.keys())[:5000]\n",
    "\n",
    "#Accoridng to the Kaggle\n",
    "#target: the polarity of the tweet (0 = negative, 2 = neutral, 4 = positive)\n",
    "\n",
    "\n",
    "#so I have to set =4 if positive --> True\n",
    "documents = list(zip(df_sample['text_processed'], np.where(df_sample['target'] == 4, True, False)))"
   ]
  },
  {
   "cell_type": "code",
   "execution_count": 25,
   "metadata": {},
   "outputs": [],
   "source": [
    "#following the video\n",
    "def find_features(document):\n",
    "    words = set(document)\n",
    "    features = {}\n",
    "    for w in word_features:\n",
    "        features[w] = (w in words) #True or False in case its in the document\n",
    "    return features\n",
    "\n",
    "#its gonna be the find features and the categories\n",
    "featuresets = [(find_features(rev), category) for (rev, category) in documents]"
   ]
  },
  {
   "cell_type": "code",
   "execution_count": 36,
   "metadata": {},
   "outputs": [
    {
     "data": {
      "text/plain": [
       "10000"
      ]
     },
     "execution_count": 36,
     "metadata": {},
     "output_type": "execute_result"
    }
   ],
   "source": [
    "len(featuresets)"
   ]
  },
  {
   "cell_type": "markdown",
   "metadata": {},
   "source": [
    "### Building and Traininng Naive Bayes Model\n",
    "\n",
    "In this step you will split your feature set into a training and a test set. Then you will create a Bayes classifier instance using `nltk.NaiveBayesClassifier.train` ([example](https://www.nltk.org/book/ch06.html)) to train with the training dataset.\n",
    "\n",
    "After training the model, call `classifier.show_most_informative_features()` to inspect the most important features. The output will look like:\n",
    "\n",
    "```\n",
    "Most Informative Features\n",
    "\t    snow = True            False : True   =     34.3 : 1.0\n",
    "\t  easter = True            False : True   =     26.2 : 1.0\n",
    "\t headach = True            False : True   =     20.9 : 1.0\n",
    "\t    argh = True            False : True   =     17.6 : 1.0\n",
    "\tunfortun = True            False : True   =     16.9 : 1.0\n",
    "\t    jona = True             True : False  =     16.2 : 1.0\n",
    "\t     ach = True            False : True   =     14.9 : 1.0\n",
    "\t     sad = True            False : True   =     13.0 : 1.0\n",
    "\t  parent = True            False : True   =     12.9 : 1.0\n",
    "\t  spring = True            False : True   =     12.7 : 1.0\n",
    "```\n",
    "\n",
    "The [following video](https://www.youtube.com/watch?v=rISOsUaTrO4) will help you complete this step. The source code in this video can be found [here](https://pythonprogramming.net/naive-bayes-classifier-nltk-tutorial/)."
   ]
  },
  {
   "cell_type": "markdown",
   "metadata": {},
   "source": [
    "[![Building and Training NB](nb-model-building.jpg)](https://www.youtube.com/watch?v=rISOsUaTrO4)"
   ]
  },
  {
   "cell_type": "code",
   "execution_count": 35,
   "metadata": {},
   "outputs": [],
   "source": [
    "training_set = featuresets[int(len(featuresets)*0.8):]\n",
    "testing_set = featuresets[:int(len(featuresets)*0.8)]"
   ]
  },
  {
   "cell_type": "code",
   "execution_count": 37,
   "metadata": {},
   "outputs": [],
   "source": [
    "classifier = nltk.NaiveBayesClassifier.train(training_set)"
   ]
  },
  {
   "cell_type": "markdown",
   "metadata": {},
   "source": [
    "### Testing Naive Bayes Model\n",
    "\n",
    "Now we'll test our classifier with the test dataset. This is done by calling `nltk.classify.accuracy(classifier, test)`.\n",
    "\n",
    "As mentioned in one of the tutorial videos, a Naive Bayes model is considered OK if your accuracy score is over 0.6. If your accuracy score is over 0.7, you've done a great job!"
   ]
  },
  {
   "cell_type": "code",
   "execution_count": 38,
   "metadata": {},
   "outputs": [
    {
     "name": "stdout",
     "output_type": "stream",
     "text": [
      "Classifier accuracy: 0.678\n"
     ]
    }
   ],
   "source": [
    "print(\"Classifier accuracy:\",(nltk.classify.accuracy(classifier, testing_set)))"
   ]
  },
  {
   "cell_type": "markdown",
   "metadata": {},
   "source": [
    "## Bonus Question 1: Improve Model Performance\n",
    "\n",
    "If you are still not exhausted so far and want to dig deeper, try to improve your classifier performance. There are many aspects you can dig into, for example:\n",
    "\n",
    "* Improve stemming and lemmatization. Inspect your bag of words and the most important features. Are there any words you should furuther remove from analysis? You can append these words to further remove to the stop words list.\n",
    "\n",
    "* Remember we only used the top 5,000 features to build model? Try using different numbers of top features. The bottom line is to use as few features as you can without compromising your model performance. The fewer features you select into your model, the faster your model is trained. Then you can use a larger sample size to improve your model accuracy score."
   ]
  },
  {
   "cell_type": "code",
   "execution_count": 39,
   "metadata": {},
   "outputs": [
    {
     "name": "stdout",
     "output_type": "stream",
     "text": [
      "Most Informative Features\n",
      "                    bore = True            False : True   =     11.1 : 1.0\n",
      "                    hate = True            False : True   =     10.5 : 1.0\n",
      "                     ugh = True            False : True   =      9.0 : 1.0\n",
      "                     www = True             True : False  =      8.4 : 1.0\n",
      "                    poor = True            False : True   =      6.8 : 1.0\n",
      "                   happi = True             True : False  =      6.2 : 1.0\n",
      "                    damn = True            False : True   =      6.1 : 1.0\n",
      "                      aw = True            False : True   =      6.1 : 1.0\n",
      "                       c = True             True : False  =      5.9 : 1.0\n",
      "                    sick = True            False : True   =      5.8 : 1.0\n",
      "                     bad = True            False : True   =      5.6 : 1.0\n",
      "                   thank = True             True : False  =      5.5 : 1.0\n",
      "                   enjoy = True             True : False  =      5.4 : 1.0\n",
      "                   excit = True             True : False  =      5.4 : 1.0\n",
      "                   coffe = True             True : False  =      5.3 : 1.0\n"
     ]
    }
   ],
   "source": [
    "classifier.show_most_informative_features(15)"
   ]
  },
  {
   "cell_type": "code",
   "execution_count": 44,
   "metadata": {},
   "outputs": [],
   "source": [
    "word_features = list(words.keys())[:2000]\n",
    "documents = list(zip(df_sample['text_processed'], np.where(df_sample['target'] == 4, True, False)))\n",
    "\n",
    "featuresets = [(find_features(rev), category) for (rev, category) in documents]\n",
    "\n",
    "training_set = featuresets[int(len(featuresets)*0.8):]\n",
    "testing_set = featuresets[:int(len(featuresets)*0.8)]\n",
    "\n",
    "classifier = nltk.NaiveBayesClassifier.train(training_set)"
   ]
  },
  {
   "cell_type": "code",
   "execution_count": 45,
   "metadata": {},
   "outputs": [
    {
     "name": "stdout",
     "output_type": "stream",
     "text": [
      "Classifier accuracy: 0.681625\n"
     ]
    }
   ],
   "source": [
    "print(\"Classifier accuracy:\",(nltk.classify.accuracy(classifier, testing_set)))\n"
   ]
  },
  {
   "cell_type": "markdown",
   "metadata": {},
   "source": [
    "## Bonus Question 2: Machine Learning Pipeline\n",
    "\n",
    "In a new Jupyter Notebook, combine all your codes into a function (or a class). Your new function will execute the complete machine learning pipeline job by receiving the dataset location and output the classifier. This will allow you to use your function to predict the sentiment of any tweet in real time. "
   ]
  },
  {
   "cell_type": "code",
   "execution_count": 43,
   "metadata": {},
   "outputs": [],
   "source": [
    "#receiving the dataset location and output the classifier.\n",
    "#make sure the column is named text\n",
    "#target\n",
    "#m for most commun m numbers of words\n",
    "\n",
    "def crazy_function(df):\n",
    "    documents = list(zip(df['text'], np.where(df['target'] == 4, True, False)))\n",
    "    featuresets = [(find_features(rev), category) for (rev, category) in documents]\n",
    "\n",
    "    training_set = featuresets[int(len(featuresets)*0.8):]\n",
    "    testing_set = featuresets[:int(len(featuresets)*0.8)]\n",
    "    \n",
    "    classifier = nltk.NaiveBayesClassifier.train(training_set)\n",
    "    return(\"Classifier accuracy:\",(nltk.classify.accuracy(classifier, testing_set)))"
   ]
  },
  {
   "cell_type": "markdown",
   "metadata": {},
   "source": [
    "## Bonus Question 3: Apache Spark\n",
    "\n",
    "If you have completed the Apache Spark advanced topic lab, what you can do is to migrate your pipeline from local to a Databricks Notebook. Share your notebook with your instructor and classmates to show off your achievements!"
   ]
  },
  {
   "cell_type": "code",
   "execution_count": null,
   "metadata": {},
   "outputs": [],
   "source": [
    "# your code here"
   ]
  }
 ],
 "metadata": {
  "kernelspec": {
   "display_name": "Python 3",
   "language": "python",
   "name": "python3"
  },
  "language_info": {
   "codemirror_mode": {
    "name": "ipython",
    "version": 3
   },
   "file_extension": ".py",
   "mimetype": "text/x-python",
   "name": "python",
   "nbconvert_exporter": "python",
   "pygments_lexer": "ipython3",
   "version": "3.7.4"
  }
 },
 "nbformat": 4,
 "nbformat_minor": 2
}
